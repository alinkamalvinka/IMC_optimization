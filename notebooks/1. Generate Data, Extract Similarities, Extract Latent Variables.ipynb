{
 "cells": [
  {
   "cell_type": "code",
   "execution_count": null,
   "metadata": {},
   "outputs": [],
   "source": [
    "import pandas as pd\n",
    "import numpy as np"
   ]
  },
  {
   "cell_type": "code",
   "execution_count": null,
   "metadata": {},
   "outputs": [],
   "source": [
    "reviews = pd.read_csv('../data/olist_order_reviews_dataset.csv')\n",
    "customers = pd.read_csv('../data/olist_customers_dataset.csv')\n",
    "orders_products = pd.read_csv('../data/olist_order_items_dataset.csv')\n",
    "orders = pd.read_csv('../data/olist_orders_dataset.csv')\n",
    "products = pd.read_csv('../data/olist_products_dataset.csv')"
   ]
  },
  {
   "cell_type": "code",
   "execution_count": null,
   "metadata": {},
   "outputs": [],
   "source": [
    "correlations = pd.read_excel('../data/correlation.xlsx', sheet_name = \"Sheet1\")"
   ]
  },
  {
   "cell_type": "code",
   "execution_count": null,
   "metadata": {},
   "outputs": [],
   "source": [
    "reviews.name =\"reviews\"\n",
    "customers.name = \"customers\"\n",
    "orders.name = \"orders\"\n",
    "orders_products.name = \"orders_products\"\n",
    "products.name = \"products\""
   ]
  },
  {
   "cell_type": "markdown",
   "metadata": {},
   "source": [
    "## 0. Join Dataset"
   ]
  },
  {
   "cell_type": "code",
   "execution_count": null,
   "metadata": {},
   "outputs": [],
   "source": [
    "import preprocessing.generate_data as gd\n",
    "\n",
    "data_joined = gd.join_all_datasets(data_orders = orders,\n",
    "                            data_orders_items = orders_products,\n",
    "                            data_clients = customers,\n",
    "                             data_products = products,   \n",
    "                            data_reviews= reviews)"
   ]
  },
  {
   "cell_type": "code",
   "execution_count": null,
   "metadata": {},
   "outputs": [],
   "source": [
    "data_filtered, corelations_filtered = gd.extract_data_subset_review(\n",
    "    data_joined, correlations, \"review_comment_message\", \"product_category_name\")"
   ]
  },
  {
   "cell_type": "code",
   "execution_count": null,
   "metadata": {},
   "outputs": [],
   "source": [
    "aggregated_product_view = gd.extract_latent_components(data_filtered,\n",
    "                                             \"review_comment_message\", \"product_category_name\",\n",
    "                                             \"product_id\", 5)\n"
   ]
  },
  {
   "cell_type": "code",
   "execution_count": null,
   "metadata": {},
   "outputs": [],
   "source": [
    "category_df_latent = gd.extract_category_encoding(data_filtered,\n",
    "                                             \"review_comment_message\", \"product_category_name\",\n",
    "                                             \"product_id\", 5)"
   ]
  },
  {
   "cell_type": "code",
   "execution_count": null,
   "metadata": {},
   "outputs": [],
   "source": [
    "merged_latent_category_agg = gd.aggregate_category_view(data_filtered, category_df_latent)"
   ]
  },
  {
   "cell_type": "code",
   "execution_count": null,
   "metadata": {},
   "outputs": [],
   "source": [
    "product_characteristics_category = gd.create_product_characteristics_complete(data_filtered,\n",
    "                                                                              aggregated_product_view,\n",
    "                                                                              merged_latent_category_agg)"
   ]
  },
  {
   "cell_type": "code",
   "execution_count": null,
   "metadata": {},
   "outputs": [],
   "source": [
    "similarities = gd.calculate_distances(product_characteristics_category)"
   ]
  },
  {
   "cell_type": "code",
   "execution_count": null,
   "metadata": {},
   "outputs": [],
   "source": [
    "similarities.to_csv('similarity_matrix.csv')"
   ]
  }
 ],
 "metadata": {
  "kernelspec": {
   "display_name": "imc_poc",
   "language": "python",
   "name": "imc_poc"
  },
  "language_info": {
   "codemirror_mode": {
    "name": "ipython",
    "version": 3
   },
   "file_extension": ".py",
   "mimetype": "text/x-python",
   "name": "python",
   "nbconvert_exporter": "python",
   "pygments_lexer": "ipython3",
   "version": "3.7.5"
  },
  "pycharm": {
   "stem_cell": {
    "cell_type": "raw",
    "source": [],
    "metadata": {
     "collapsed": false
    }
   }
  }
 },
 "nbformat": 4,
 "nbformat_minor": 2
}

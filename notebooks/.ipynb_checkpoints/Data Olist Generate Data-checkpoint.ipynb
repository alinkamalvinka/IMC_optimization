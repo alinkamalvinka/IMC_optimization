{
 "cells": [
  {
   "cell_type": "code",
   "execution_count": 64,
   "metadata": {},
   "outputs": [],
   "source": [
    "import pandas as pd\n",
    "import numpy as np"
   ]
  },
  {
   "cell_type": "code",
   "execution_count": 65,
   "metadata": {},
   "outputs": [],
   "source": [
    "reviews = pd.read_csv('../data/olist_order_reviews_dataset.csv')\n",
    "customers = pd.read_csv('../data/olist_customers_dataset.csv')\n",
    "orders_products = pd.read_csv('../data/olist_order_items_dataset.csv')\n",
    "orders = pd.read_csv('../data/olist_orders_dataset.csv')\n",
    "products = pd.read_csv('../data/olist_products_dataset.csv')"
   ]
  },
  {
   "cell_type": "code",
   "execution_count": 66,
   "metadata": {},
   "outputs": [],
   "source": [
    "reviews.name =\"reviews\"\n",
    "customers.name = \"customers\"\n",
    "orders.name = \"orders\"\n",
    "orders_products.name = \"orders_products\"\n",
    "products.name = \"products\""
   ]
  },
  {
   "cell_type": "markdown",
   "metadata": {},
   "source": [
    "## 0. Generate Dataset"
   ]
  },
  {
   "cell_type": "code",
   "execution_count": 67,
   "metadata": {},
   "outputs": [],
   "source": [
    "# Join datasets\n",
    "def join_datasets(dataset1, dataset2, key):\n",
    "    \n",
    "    dataset1[key] = dataset1[key].astype('str')\n",
    "    dataset2[key] = dataset2[key].astype('str')\n",
    "    \n",
    "    joined_datasets = dataset1.merge(dataset2,\n",
    "                                 on=key,\n",
    "                                 how='left')\n",
    "    return joined_datasets\n",
    "\n",
    "\n",
    "def join_all_datasets(data_orders, data_orders_items, data_clients, data_products, data_reviews):\n",
    "    \n",
    "    data_orders_customers = join_datasets(data_orders, data_clients, key='customer_id')\n",
    "    \n",
    "    data_orders_items_customers = join_datasets(data_orders_items, data_orders_customers, key='order_id')\n",
    "    \n",
    "    data_orders_items_customers_reviews = join_datasets(data_orders_items_customers, data_reviews, key='order_id')\n",
    "    \n",
    "    data_orders_items_customers_reviews_products = join_datasets(data_orders_items_customers_reviews, data_products, key='product_id')\n",
    "    \n",
    "    return data_orders_items_customers_reviews_products "
   ]
  },
  {
   "cell_type": "code",
   "execution_count": 78,
   "metadata": {},
   "outputs": [],
   "source": [
    "def generate_dataset(num_users, data_joined):\n",
    "    user_list = data_joined['customer_unique_id'].unique().tolist()[:num_users]\n",
    "    df_full = pd.DataFrame()\n",
    "    for user in user_list:\n",
    "        user_df = generate_user(user, data_joined)\n",
    "        df_full = pd.concat([df_full,user_df], axis = 0, sort=False)\n",
    "        \n",
    "    return df_full"
   ]
  },
  {
   "cell_type": "code",
   "execution_count": 102,
   "metadata": {},
   "outputs": [],
   "source": [
    "def generate_user(user, data_joined):\n",
    "    alpha, categories = extract_alpha_categories(data_joined)\n",
    "    \n",
    "    n_products = generate_num_products()\n",
    "    user_dirichlet = generate_category_probs(alpha)\n",
    "    price_quantile, cv = generate_user_spending_behaviour()\n",
    "    product_full_df = pd.DataFrame()\n",
    "    \n",
    "    for i in range(n_products):\n",
    "        product_df = generate_product_df(user_dirichlet, data_joined, categories, price_quantile, cv)\n",
    "        product_full_df = pd.concat([product_full_df,product_df], axis = 0, sort=False)\n",
    "        product_full_df.reset_index(inplace=True, drop=True)\n",
    "    \n",
    "    product_full_df[\"customer_unique_id\"] = user\n",
    "        \n",
    "    return product_full_df"
   ]
  },
  {
   "cell_type": "code",
   "execution_count": null,
   "metadata": {},
   "outputs": [],
   "source": [
    "def generate_user_spending_behaviour():\n",
    "    quantile = np.random.randint(1,100)\n",
    "    cv_ratio = np.random.normal(0.1, 0.5)\n",
    "    return quantile, cv_ratio"
   ]
  },
  {
   "cell_type": "code",
   "execution_count": 94,
   "metadata": {},
   "outputs": [],
   "source": [
    "def generate_num_products(miu = 20, sigma = 5):\n",
    "    return int(np.random.normal(miu, sigma))"
   ]
  },
  {
   "cell_type": "code",
   "execution_count": 95,
   "metadata": {},
   "outputs": [],
   "source": [
    "def generate_category_probs(alpha):\n",
    "    return np.random.dirichlet(alpha, 1).transpose()"
   ]
  },
  {
   "cell_type": "code",
   "execution_count": 96,
   "metadata": {},
   "outputs": [],
   "source": [
    "def random_date():\n",
    "    \"\"\"Generate a random datetime between `start` and `end`\"\"\"\n",
    "    start = datetime.date(2016, 1, 1)\n",
    "    end = datetime.date(2018, 12, 1)\n",
    "    random_date = start + datetime.timedelta(\n",
    "        # Get a random amount of seconds between `start` and `end`\n",
    "        seconds=random.randint(0, int((end - start).total_seconds())),\n",
    "    )\n",
    "    return random_date.strftime('%Y-%m-%d')"
   ]
  },
  {
   "cell_type": "code",
   "execution_count": 97,
   "metadata": {},
   "outputs": [],
   "source": [
    "def generate_product_df(user_dirichlet, data_joined, categories, price_quantile, cv):\n",
    "    product_category = np.random.choice(categories, p=user_dirichlet.ravel().tolist())\n",
    "    sub_cat_df = data_joined[data_joined['product_category_name']==product_category].copy().reset_index(drop=True)\n",
    "    sub_cat_df.drop_duplicates(subset=['product_id'], inplace=True)\n",
    "    \n",
    "    price_quantile_value = sub_cat_df['price'].quantile(price_quantile)\n",
    "    price_std = cv*price_quantile_value\n",
    "    sub_cat_df[\"product_probability\"] = sub_cat_df['price'] - price_quantile_value\n",
    "    \n",
    "    product_id = np.random.choice(sub_cat_df.product_id.unique().tolist())\n",
    "    price = sub_cat_df[sub_cat_df[\"product_id\"]==product_id][\"price\"].values[0]\n",
    "    timestamp = random_date()\n",
    "    \n",
    "    product_df = pd.DataFrame({\"product_category_name\": product_category,\n",
    "                              \"product_id\":product_id,\n",
    "                              \"price\": price,\n",
    "                              \"order_purchase_timestamp\":timestamp}, index=[0])\n",
    "\n",
    "    return product_df\n",
    "    \n",
    "    "
   ]
  },
  {
   "cell_type": "code",
   "execution_count": 98,
   "metadata": {},
   "outputs": [],
   "source": [
    "def extract_alpha_categories(data_joined):\n",
    "    revenues_groups = data_joined.groupby(by=\"product_category_name\").agg({\"price\": \"sum\"})\n",
    "    categories_products = revenues_groups.index.tolist()\n",
    "    alpha_dir = tuple(revenues_groups.price.tolist())\n",
    "\n",
    "    return alpha_dir, categories_products"
   ]
  },
  {
   "cell_type": "code",
   "execution_count": 99,
   "metadata": {},
   "outputs": [],
   "source": [
    "data_joined = join_all_datasets(data_orders = orders,\n",
    "                            data_orders_items = orders_products,\n",
    "                            data_clients = customers,\n",
    "                             data_products = products,   \n",
    "                            data_reviews= reviews)"
   ]
  },
  {
   "cell_type": "code",
   "execution_count": 104,
   "metadata": {},
   "outputs": [],
   "source": [
    "synthetic_dataset = generate_dataset(num_users=500, data_joined=data_joined)"
   ]
  },
  {
   "cell_type": "code",
   "execution_count": 105,
   "metadata": {},
   "outputs": [
    {
     "data": {
      "text/plain": [
       "cb56f37beb68b1e2557f4ce00879d21c    34\n",
       "7e59d854b9bb4cbb2c85fcd93877c694    33\n",
       "860fc00d3154ce2346c43ebe47b9b6ce    32\n",
       "db9fa24c8ae633ca73fb9b8cf741574e    32\n",
       "d49f11b7331d59d197d96d0660b51bef    32\n",
       "                                    ..\n",
       "3ecdba3759728beba1f9ed3643e133d3     7\n",
       "b2ee5bbc35d3e89184dd87c1d957b013     7\n",
       "b31e69e978d97f380d52102ac379fd7e     7\n",
       "b218733357b8317b5738bf9fe3c77b07     6\n",
       "6d00d37733cf5dcb758f7e1b35829411     4\n",
       "Name: customer_unique_id, Length: 500, dtype: int64"
      ]
     },
     "execution_count": 105,
     "metadata": {},
     "output_type": "execute_result"
    }
   ],
   "source": [
    "synthetic_dataset.customer_unique_id.value_counts()"
   ]
  },
  {
   "cell_type": "code",
   "execution_count": 106,
   "metadata": {},
   "outputs": [
    {
     "data": {
      "text/html": [
       "<div>\n",
       "<style scoped>\n",
       "    .dataframe tbody tr th:only-of-type {\n",
       "        vertical-align: middle;\n",
       "    }\n",
       "\n",
       "    .dataframe tbody tr th {\n",
       "        vertical-align: top;\n",
       "    }\n",
       "\n",
       "    .dataframe thead th {\n",
       "        text-align: right;\n",
       "    }\n",
       "</style>\n",
       "<table border=\"1\" class=\"dataframe\">\n",
       "  <thead>\n",
       "    <tr style=\"text-align: right;\">\n",
       "      <th></th>\n",
       "      <th>product_category_name</th>\n",
       "      <th>product_id</th>\n",
       "      <th>price</th>\n",
       "      <th>order_purchase_timestamp</th>\n",
       "      <th>customer_unique_id</th>\n",
       "    </tr>\n",
       "  </thead>\n",
       "  <tbody>\n",
       "    <tr>\n",
       "      <td>0</td>\n",
       "      <td>esporte_lazer</td>\n",
       "      <td>b77ac7c9a13af7627089df0a46b54211</td>\n",
       "      <td>77.90</td>\n",
       "      <td>2018-07-17</td>\n",
       "      <td>871766c5855e863f6eccc05f988b23cb</td>\n",
       "    </tr>\n",
       "    <tr>\n",
       "      <td>1</td>\n",
       "      <td>esporte_lazer</td>\n",
       "      <td>be62243c73473ddb40dca0d1cf38bc87</td>\n",
       "      <td>37.99</td>\n",
       "      <td>2018-07-21</td>\n",
       "      <td>871766c5855e863f6eccc05f988b23cb</td>\n",
       "    </tr>\n",
       "    <tr>\n",
       "      <td>2</td>\n",
       "      <td>moveis_sala</td>\n",
       "      <td>5cc6fefdce664959965aacfa90f03163</td>\n",
       "      <td>618.90</td>\n",
       "      <td>2018-03-29</td>\n",
       "      <td>871766c5855e863f6eccc05f988b23cb</td>\n",
       "    </tr>\n",
       "    <tr>\n",
       "      <td>3</td>\n",
       "      <td>bebes</td>\n",
       "      <td>a44f944687bbcf1d5e4f2af94a55dc05</td>\n",
       "      <td>249.99</td>\n",
       "      <td>2018-06-05</td>\n",
       "      <td>871766c5855e863f6eccc05f988b23cb</td>\n",
       "    </tr>\n",
       "    <tr>\n",
       "      <td>4</td>\n",
       "      <td>cama_mesa_banho</td>\n",
       "      <td>72b781d37ad5c06da9a06f01248d3f48</td>\n",
       "      <td>77.99</td>\n",
       "      <td>2017-06-24</td>\n",
       "      <td>871766c5855e863f6eccc05f988b23cb</td>\n",
       "    </tr>\n",
       "    <tr>\n",
       "      <td>...</td>\n",
       "      <td>...</td>\n",
       "      <td>...</td>\n",
       "      <td>...</td>\n",
       "      <td>...</td>\n",
       "      <td>...</td>\n",
       "    </tr>\n",
       "    <tr>\n",
       "      <td>18</td>\n",
       "      <td>relogios_presentes</td>\n",
       "      <td>a6fe71f0756d773ce5cbb7564f049939</td>\n",
       "      <td>159.00</td>\n",
       "      <td>2016-11-01</td>\n",
       "      <td>b0cc15ee23845ff07ad13a3af4f34a46</td>\n",
       "    </tr>\n",
       "    <tr>\n",
       "      <td>19</td>\n",
       "      <td>beleza_saude</td>\n",
       "      <td>6f2a4da2fb20abf7cfb17f4ccdba0fdb</td>\n",
       "      <td>278.90</td>\n",
       "      <td>2017-06-07</td>\n",
       "      <td>b0cc15ee23845ff07ad13a3af4f34a46</td>\n",
       "    </tr>\n",
       "    <tr>\n",
       "      <td>20</td>\n",
       "      <td>cool_stuff</td>\n",
       "      <td>367e3cfe13596a0efb512e235e40e754</td>\n",
       "      <td>189.90</td>\n",
       "      <td>2016-03-31</td>\n",
       "      <td>b0cc15ee23845ff07ad13a3af4f34a46</td>\n",
       "    </tr>\n",
       "    <tr>\n",
       "      <td>21</td>\n",
       "      <td>beleza_saude</td>\n",
       "      <td>b41d86054cccdd1d4bb6c1835bfee57c</td>\n",
       "      <td>24.00</td>\n",
       "      <td>2018-04-27</td>\n",
       "      <td>b0cc15ee23845ff07ad13a3af4f34a46</td>\n",
       "    </tr>\n",
       "    <tr>\n",
       "      <td>22</td>\n",
       "      <td>eletronicos</td>\n",
       "      <td>3fc3d637781e5d185455013606a6e2cd</td>\n",
       "      <td>32.90</td>\n",
       "      <td>2018-05-23</td>\n",
       "      <td>b0cc15ee23845ff07ad13a3af4f34a46</td>\n",
       "    </tr>\n",
       "  </tbody>\n",
       "</table>\n",
       "<p>9683 rows × 5 columns</p>\n",
       "</div>"
      ],
      "text/plain": [
       "   product_category_name                        product_id   price  \\\n",
       "0          esporte_lazer  b77ac7c9a13af7627089df0a46b54211   77.90   \n",
       "1          esporte_lazer  be62243c73473ddb40dca0d1cf38bc87   37.99   \n",
       "2            moveis_sala  5cc6fefdce664959965aacfa90f03163  618.90   \n",
       "3                  bebes  a44f944687bbcf1d5e4f2af94a55dc05  249.99   \n",
       "4        cama_mesa_banho  72b781d37ad5c06da9a06f01248d3f48   77.99   \n",
       "..                   ...                               ...     ...   \n",
       "18    relogios_presentes  a6fe71f0756d773ce5cbb7564f049939  159.00   \n",
       "19          beleza_saude  6f2a4da2fb20abf7cfb17f4ccdba0fdb  278.90   \n",
       "20            cool_stuff  367e3cfe13596a0efb512e235e40e754  189.90   \n",
       "21          beleza_saude  b41d86054cccdd1d4bb6c1835bfee57c   24.00   \n",
       "22           eletronicos  3fc3d637781e5d185455013606a6e2cd   32.90   \n",
       "\n",
       "   order_purchase_timestamp                customer_unique_id  \n",
       "0                2018-07-17  871766c5855e863f6eccc05f988b23cb  \n",
       "1                2018-07-21  871766c5855e863f6eccc05f988b23cb  \n",
       "2                2018-03-29  871766c5855e863f6eccc05f988b23cb  \n",
       "3                2018-06-05  871766c5855e863f6eccc05f988b23cb  \n",
       "4                2017-06-24  871766c5855e863f6eccc05f988b23cb  \n",
       "..                      ...                               ...  \n",
       "18               2016-11-01  b0cc15ee23845ff07ad13a3af4f34a46  \n",
       "19               2017-06-07  b0cc15ee23845ff07ad13a3af4f34a46  \n",
       "20               2016-03-31  b0cc15ee23845ff07ad13a3af4f34a46  \n",
       "21               2018-04-27  b0cc15ee23845ff07ad13a3af4f34a46  \n",
       "22               2018-05-23  b0cc15ee23845ff07ad13a3af4f34a46  \n",
       "\n",
       "[9683 rows x 5 columns]"
      ]
     },
     "execution_count": 106,
     "metadata": {},
     "output_type": "execute_result"
    }
   ],
   "source": [
    "synthetic_dataset"
   ]
  },
  {
   "cell_type": "code",
   "execution_count": 114,
   "metadata": {},
   "outputs": [],
   "source": [
    "from scipy.stats import norm\n",
    "\n",
    "subset = data_joined[data_joined[\"product_category_name\"]==\"beleza_saude\"]\n",
    "\n",
    "price_array = subset[\"price\"].values\n",
    "products = subset[\"product_id\"].values\n",
    "price_array\n",
    "probs = norm.pdf(price_array)"
   ]
  },
  {
   "cell_type": "code",
   "execution_count": 115,
   "metadata": {},
   "outputs": [
    {
     "data": {
      "text/plain": [
       "array([0.00000000e+00, 0.00000000e+00, 1.96449225e-79, ...,\n",
       "       0.00000000e+00, 0.00000000e+00, 0.00000000e+00])"
      ]
     },
     "execution_count": 115,
     "metadata": {},
     "output_type": "execute_result"
    }
   ],
   "source": [
    "probs"
   ]
  },
  {
   "cell_type": "code",
   "execution_count": 116,
   "metadata": {},
   "outputs": [
    {
     "data": {
      "text/html": [
       "<div>\n",
       "<style scoped>\n",
       "    .dataframe tbody tr th:only-of-type {\n",
       "        vertical-align: middle;\n",
       "    }\n",
       "\n",
       "    .dataframe tbody tr th {\n",
       "        vertical-align: top;\n",
       "    }\n",
       "\n",
       "    .dataframe thead th {\n",
       "        text-align: right;\n",
       "    }\n",
       "</style>\n",
       "<table border=\"1\" class=\"dataframe\">\n",
       "  <thead>\n",
       "    <tr style=\"text-align: right;\">\n",
       "      <th></th>\n",
       "      <th>prices</th>\n",
       "      <th>probs</th>\n",
       "      <th>product_id</th>\n",
       "    </tr>\n",
       "  </thead>\n",
       "  <tbody>\n",
       "    <tr>\n",
       "      <td>0</td>\n",
       "      <td>145.95</td>\n",
       "      <td>0.000000e+00</td>\n",
       "      <td>310ae3c140ff94b03219ad0adc3c778f</td>\n",
       "    </tr>\n",
       "    <tr>\n",
       "      <td>1</td>\n",
       "      <td>59.99</td>\n",
       "      <td>0.000000e+00</td>\n",
       "      <td>d63c1011f49d98b976c352955b1c4bea</td>\n",
       "    </tr>\n",
       "    <tr>\n",
       "      <td>2</td>\n",
       "      <td>18.99</td>\n",
       "      <td>1.964492e-79</td>\n",
       "      <td>e67307ff0f15ade43fcb6e670be7a74c</td>\n",
       "    </tr>\n",
       "    <tr>\n",
       "      <td>3</td>\n",
       "      <td>18.99</td>\n",
       "      <td>1.964492e-79</td>\n",
       "      <td>e67307ff0f15ade43fcb6e670be7a74c</td>\n",
       "    </tr>\n",
       "    <tr>\n",
       "      <td>4</td>\n",
       "      <td>35.90</td>\n",
       "      <td>5.487499e-281</td>\n",
       "      <td>bdcf6a834e8faa30dac3886c7a58e92e</td>\n",
       "    </tr>\n",
       "    <tr>\n",
       "      <td>...</td>\n",
       "      <td>...</td>\n",
       "      <td>...</td>\n",
       "      <td>...</td>\n",
       "    </tr>\n",
       "    <tr>\n",
       "      <td>9723</td>\n",
       "      <td>100.00</td>\n",
       "      <td>0.000000e+00</td>\n",
       "      <td>00878d953636afec00d3e85d55a12e7f</td>\n",
       "    </tr>\n",
       "    <tr>\n",
       "      <td>9724</td>\n",
       "      <td>69.90</td>\n",
       "      <td>0.000000e+00</td>\n",
       "      <td>16b4473e98422039c388f144a0b16f55</td>\n",
       "    </tr>\n",
       "    <tr>\n",
       "      <td>9725</td>\n",
       "      <td>83.80</td>\n",
       "      <td>0.000000e+00</td>\n",
       "      <td>8ab83b53b9a953395f4f21f0b1a845ef</td>\n",
       "    </tr>\n",
       "    <tr>\n",
       "      <td>9726</td>\n",
       "      <td>47.65</td>\n",
       "      <td>0.000000e+00</td>\n",
       "      <td>437c05a395e9e47f9762e677a7068ce7</td>\n",
       "    </tr>\n",
       "    <tr>\n",
       "      <td>9727</td>\n",
       "      <td>69.95</td>\n",
       "      <td>0.000000e+00</td>\n",
       "      <td>681953ccd5c33207d75571a4bfbe127d</td>\n",
       "    </tr>\n",
       "  </tbody>\n",
       "</table>\n",
       "<p>9728 rows × 3 columns</p>\n",
       "</div>"
      ],
      "text/plain": [
       "      prices          probs                        product_id\n",
       "0     145.95   0.000000e+00  310ae3c140ff94b03219ad0adc3c778f\n",
       "1      59.99   0.000000e+00  d63c1011f49d98b976c352955b1c4bea\n",
       "2      18.99   1.964492e-79  e67307ff0f15ade43fcb6e670be7a74c\n",
       "3      18.99   1.964492e-79  e67307ff0f15ade43fcb6e670be7a74c\n",
       "4      35.90  5.487499e-281  bdcf6a834e8faa30dac3886c7a58e92e\n",
       "...      ...            ...                               ...\n",
       "9723  100.00   0.000000e+00  00878d953636afec00d3e85d55a12e7f\n",
       "9724   69.90   0.000000e+00  16b4473e98422039c388f144a0b16f55\n",
       "9725   83.80   0.000000e+00  8ab83b53b9a953395f4f21f0b1a845ef\n",
       "9726   47.65   0.000000e+00  437c05a395e9e47f9762e677a7068ce7\n",
       "9727   69.95   0.000000e+00  681953ccd5c33207d75571a4bfbe127d\n",
       "\n",
       "[9728 rows x 3 columns]"
      ]
     },
     "execution_count": 116,
     "metadata": {},
     "output_type": "execute_result"
    }
   ],
   "source": [
    "pd.DataFrame({\"prices\": price_array,\n",
    "             \"probs\": probs,\n",
    "             \"product_id\": products})"
   ]
  },
  {
   "cell_type": "code",
   "execution_count": 120,
   "metadata": {},
   "outputs": [
    {
     "data": {
      "text/plain": [
       "<matplotlib.axes._subplots.AxesSubplot at 0x12c114c10>"
      ]
     },
     "execution_count": 120,
     "metadata": {},
     "output_type": "execute_result"
    },
    {
     "data": {
      "image/png": "[encoded data removed]",
      "text/plain": [
       "<Figure size 432x288 with 1 Axes>"
      ]
     },
     "metadata": {
      "needs_background": "light"
     },
     "output_type": "display_data"
    }
   ],
   "source": [
    "%matplotlib inline\n",
    "import seaborn as sns\n",
    "sns.distplot(price_array)"
   ]
  },
  {
   "cell_type": "code",
   "execution_count": null,
   "metadata": {},
   "outputs": [],
   "source": []
  }
 ],
 "metadata": {
  "kernelspec": {
   "display_name": "lda_dtm",
   "language": "python",
   "name": "lda_dtm"
  },
  "language_info": {
   "codemirror_mode": {
    "name": "ipython",
    "version": 3
   },
   "file_extension": ".py",
   "mimetype": "text/x-python",
   "name": "python",
   "nbconvert_exporter": "python",
   "pygments_lexer": "ipython3",
   "version": "3.7.4"
  }
 },
 "nbformat": 4,
 "nbformat_minor": 2
}

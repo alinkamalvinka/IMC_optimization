{
 "cells": [
  {
   "cell_type": "code",
   "execution_count": 1,
   "metadata": {},
   "outputs": [],
   "source": [
    "import pandas as pd\n",
    "import numpy as np"
   ]
  },
  {
   "cell_type": "code",
   "execution_count": 2,
   "metadata": {},
   "outputs": [],
   "source": [
    "data = pd.read_csv('generated_data.csv')\n",
    "products = pd.read_csv('../data/olist_products_dataset.csv')\n",
    "similarities = pd.read_csv('similarity_matrix.csv')\n",
    "orders_products = pd.read_csv('../data/olist_order_items_dataset.csv')"
   ]
  },
  {
   "cell_type": "markdown",
   "metadata": {},
   "source": [
    "## 0. Cast"
   ]
  },
  {
   "cell_type": "code",
   "execution_count": 3,
   "metadata": {},
   "outputs": [],
   "source": [
    "date_columns_orders = [\"order_purchase_timestamp\"]\n",
    "\n",
    "data[date_columns_orders] = data[date_columns_orders].apply(pd.to_datetime)"
   ]
  },
  {
   "cell_type": "code",
   "execution_count": 4,
   "metadata": {},
   "outputs": [],
   "source": [
    "data['year'] = data[\"order_purchase_timestamp\"].dt.year"
   ]
  },
  {
   "cell_type": "code",
   "execution_count": 5,
   "metadata": {},
   "outputs": [
    {
     "data": {
      "text/plain": [
       "2017    22054\n",
       "2016    21840\n",
       "2018    20006\n",
       "Name: year, dtype: int64"
      ]
     },
     "execution_count": 5,
     "metadata": {},
     "output_type": "execute_result"
    }
   ],
   "source": [
    "data[\"year\"].value_counts()"
   ]
  },
  {
   "cell_type": "markdown",
   "metadata": {},
   "source": [
    "## 1. Split Train and Test"
   ]
  },
  {
   "cell_type": "code",
   "execution_count": 6,
   "metadata": {},
   "outputs": [],
   "source": [
    "def split(data, date_column, date_split):\n",
    "    \n",
    "    data_df = data.copy()\n",
    "    mask_train = data_df[date_column] < date_split\n",
    "    mask_test = data_df[date_column] >= date_split\n",
    "\n",
    "    data_train = data_df[mask_train].copy()\n",
    "    data_test = data_df[mask_test].copy()\n",
    "    \n",
    "    data_train['split'] =\"train\"\n",
    "    data_test['split'] =\"test\"\n",
    "\n",
    "    return data_train, data_test"
   ]
  },
  {
   "cell_type": "code",
   "execution_count": 7,
   "metadata": {},
   "outputs": [],
   "source": [
    "df_train, df_test = split(data= data,\n",
    "                          date_column=\"order_purchase_timestamp\",\n",
    "                          date_split = '2018-01-01')"
   ]
  },
  {
   "cell_type": "code",
   "execution_count": 8,
   "metadata": {},
   "outputs": [
    {
     "data": {
      "text/plain": [
       "43894"
      ]
     },
     "execution_count": 8,
     "metadata": {},
     "output_type": "execute_result"
    }
   ],
   "source": [
    "len(df_train)"
   ]
  },
  {
   "cell_type": "code",
   "execution_count": 9,
   "metadata": {},
   "outputs": [
    {
     "data": {
      "text/plain": [
       "20006"
      ]
     },
     "execution_count": 9,
     "metadata": {},
     "output_type": "execute_result"
    }
   ],
   "source": [
    "len(df_test) "
   ]
  },
  {
   "cell_type": "markdown",
   "metadata": {},
   "source": [
    "## 2. SVD"
   ]
  },
  {
   "cell_type": "code",
   "execution_count": 10,
   "metadata": {},
   "outputs": [],
   "source": [
    "import svd.svd as svd\n",
    "import testing.test as test\n",
    "import content_recommender.similarity_recommendations as simrec"
   ]
  },
  {
   "cell_type": "code",
   "execution_count": 11,
   "metadata": {},
   "outputs": [
    {
     "name": "stdout",
     "output_type": "stream",
     "text": [
      "(3445, 41)\n"
     ]
    }
   ],
   "source": [
    "predicted_df = svd.perform_svd(df_train)"
   ]
  },
  {
   "cell_type": "code",
   "execution_count": 12,
   "metadata": {},
   "outputs": [],
   "source": [
    "true_with_rec = svd.extract_test_recommendations(df_test, predicted_df)"
   ]
  },
  {
   "cell_type": "code",
   "execution_count": 13,
   "metadata": {},
   "outputs": [],
   "source": [
    "svd_test_assessed = test.assess_similarity(true_with_rec,similarities)\n",
    "deduplicated_svd_test_assessed = simrec.delete_duplicated_recommendations(svd_test_assessed)"
   ]
  },
  {
   "cell_type": "markdown",
   "metadata": {},
   "source": [
    "## 3. Similarity Recommendations"
   ]
  },
  {
   "cell_type": "code",
   "execution_count": 14,
   "metadata": {},
   "outputs": [],
   "source": [
    "import content_recommender.similarity_recommendations as simrec"
   ]
  },
  {
   "cell_type": "code",
   "execution_count": 15,
   "metadata": {},
   "outputs": [
    {
     "name": "stderr",
     "output_type": "stream",
     "text": [
      "/Users/alina_popa/Downloads/AP/PhD/practic/IMC_Optimization/notebooks/content_recommender/similarity_recommendations.py:9: FutureWarning: \n",
      "The current behaviour of 'Series.argmax' is deprecated, use 'idxmax'\n",
      "instead.\n",
      "The behavior of 'argmax' will be corrected to return the positional\n",
      "maximum in the future. For now, use 'series.values.argmax' or\n",
      "'np.argmax(np.array(values))' to get the position of the maximum\n",
      "row.\n",
      "  rec_product = similarity_matrix[similarity_matrix[product1] != 1][product1].argmax()\n"
     ]
    }
   ],
   "source": [
    "df_train_with_rec = simrec.recommend_similar(df_train, similarities)"
   ]
  },
  {
   "cell_type": "code",
   "execution_count": 16,
   "metadata": {},
   "outputs": [],
   "source": [
    "sim_rec_test = simrec.merge_sim_rec_with_test(df_train_with_rec, df_test)"
   ]
  },
  {
   "cell_type": "code",
   "execution_count": 17,
   "metadata": {},
   "outputs": [],
   "source": [
    "deduplicated_sim_rec_test = simrec.delete_duplicated_recommendations(sim_rec_test)"
   ]
  },
  {
   "cell_type": "code",
   "execution_count": 18,
   "metadata": {},
   "outputs": [],
   "source": [
    "deduplicated_sim_rec_test_assessed = test.assess_similarity(deduplicated_sim_rec_test,similarities)"
   ]
  },
  {
   "cell_type": "markdown",
   "metadata": {},
   "source": [
    "### 3.1. Success Rate for each Component"
   ]
  },
  {
   "cell_type": "code",
   "execution_count": 19,
   "metadata": {},
   "outputs": [],
   "source": [
    "deduplicated_svd_test_assessed[\"bought_flag\"] =  np.where(deduplicated_svd_test_assessed[\"similarity\"]>0.9999,\n",
    "                                                          1,0)\n",
    "deduplicated_svd_test_assessed[\"component\"] = \"svd\"\n",
    "\n",
    "deduplicated_sim_rec_test_assessed[\"bought_flag\"] =  np.where(deduplicated_sim_rec_test_assessed[\"similarity\"]>0.9999,\n",
    "                                                              1,0)\n",
    "deduplicated_sim_rec_test_assessed[\"component\"] = \"similarity\""
   ]
  },
  {
   "cell_type": "code",
   "execution_count": 20,
   "metadata": {},
   "outputs": [
    {
     "name": "stdout",
     "output_type": "stream",
     "text": [
      "Based on SVD Component there were bought 1903 products with a 0.5552961774146484 success rate\n"
     ]
    }
   ],
   "source": [
    "deduplicated_svd_test_assessed[\"component\"] = \"svd\"\n",
    "success_rate_svd = deduplicated_svd_test_assessed.groupby(by = [\"customer_unique_id\", \"rec_product\", \"component\", \"segment\"]).agg({\n",
    "                                                                 \"bought_flag\": \"max\"})\n",
    "\n",
    "success_rate_sim = deduplicated_sim_rec_test_assessed.groupby(by = [\"customer_unique_id\", \"rec_product\", \"component\", \"segment\"]).agg({\n",
    "                                                                 \"bought_flag\": \"max\"})\n",
    "\n",
    "success_rate_svd_value = success_rate_svd[\"bought_flag\"].mean()\n",
    "success_rate_svd_sum_bought_products = success_rate_svd[\"bought_flag\"].sum()\n",
    "\n",
    "print(f\"Based on SVD Component there were bought {success_rate_svd_sum_bought_products} products with a {success_rate_svd_value} success rate\")\n"
   ]
  },
  {
   "cell_type": "code",
   "execution_count": 21,
   "metadata": {},
   "outputs": [
    {
     "name": "stdout",
     "output_type": "stream",
     "text": [
      "Based on SIM Component there were bought 4583 products with a 0.5145391265296957 success rate\n"
     ]
    }
   ],
   "source": [
    "success_rate_sim_value = success_rate_sim[\"bought_flag\"].mean()\n",
    "success_rate_sim_sum_bought_products = success_rate_sim[\"bought_flag\"].sum()\n",
    "\n",
    "print(f\"Based on SIM Component there were bought {success_rate_sim_sum_bought_products} products with a {success_rate_sim_value} success rate\")"
   ]
  },
  {
   "cell_type": "code",
   "execution_count": 22,
   "metadata": {},
   "outputs": [
    {
     "name": "stdout",
     "output_type": "stream",
     "text": [
      "SVD: There were recommended a number of  3427  products to  3427  clients\n"
     ]
    }
   ],
   "source": [
    "#au fost recomandate un număr de X produse către Y clienți pe baza componentei bazata pe client\n",
    "print(\"SVD: There were recommended a number of \", len(deduplicated_svd_test_assessed[[\"rec_product\",\n",
    "                                                                                 \"customer_unique_id\"\n",
    "                                                                                ]].drop_duplicates()),\n",
    "      \" products to \",len(deduplicated_svd_test_assessed[\"customer_unique_id\"].unique().tolist()), \" clients\")"
   ]
  },
  {
   "cell_type": "code",
   "execution_count": 23,
   "metadata": {},
   "outputs": [
    {
     "name": "stdout",
     "output_type": "stream",
     "text": [
      "SIM: There were recommended a number of  8907  products to  3426  clients\n"
     ]
    }
   ],
   "source": [
    "print(\"SIM: There were recommended a number of \", len(deduplicated_sim_rec_test_assessed[[\"rec_product\",\n",
    "                                                                                 \"customer_unique_id\"\n",
    "                                                                                ]].drop_duplicates()),\n",
    "      \" products to \",len(deduplicated_sim_rec_test_assessed[\"customer_unique_id\"].unique().tolist()), \" clients\")"
   ]
  },
  {
   "cell_type": "markdown",
   "metadata": {},
   "source": [
    "## 4. RL Component "
   ]
  },
  {
   "cell_type": "code",
   "execution_count": 24,
   "metadata": {},
   "outputs": [],
   "source": [
    "# Concatenate success_rate_svd and success_rate_sim\n",
    "all_recommendations = pd.concat([success_rate_svd, success_rate_sim]).reset_index()"
   ]
  },
  {
   "cell_type": "code",
   "execution_count": 25,
   "metadata": {},
   "outputs": [
    {
     "data": {
      "text/html": [
       "<div>\n",
       "<style scoped>\n",
       "    .dataframe tbody tr th:only-of-type {\n",
       "        vertical-align: middle;\n",
       "    }\n",
       "\n",
       "    .dataframe tbody tr th {\n",
       "        vertical-align: top;\n",
       "    }\n",
       "\n",
       "    .dataframe thead th {\n",
       "        text-align: right;\n",
       "    }\n",
       "</style>\n",
       "<table border=\"1\" class=\"dataframe\">\n",
       "  <thead>\n",
       "    <tr style=\"text-align: right;\">\n",
       "      <th></th>\n",
       "      <th></th>\n",
       "      <th>bought_flag</th>\n",
       "    </tr>\n",
       "    <tr>\n",
       "      <th>component</th>\n",
       "      <th>segment</th>\n",
       "      <th></th>\n",
       "    </tr>\n",
       "  </thead>\n",
       "  <tbody>\n",
       "    <tr>\n",
       "      <td rowspan=\"3\" valign=\"top\">similarity</td>\n",
       "      <td>1</td>\n",
       "      <td>0.472635</td>\n",
       "    </tr>\n",
       "    <tr>\n",
       "      <td>2</td>\n",
       "      <td>0.602089</td>\n",
       "    </tr>\n",
       "    <tr>\n",
       "      <td>3</td>\n",
       "      <td>0.505762</td>\n",
       "    </tr>\n",
       "    <tr>\n",
       "      <td rowspan=\"3\" valign=\"top\">svd</td>\n",
       "      <td>1</td>\n",
       "      <td>0.628469</td>\n",
       "    </tr>\n",
       "    <tr>\n",
       "      <td>2</td>\n",
       "      <td>0.489487</td>\n",
       "    </tr>\n",
       "    <tr>\n",
       "      <td>3</td>\n",
       "      <td>0.552186</td>\n",
       "    </tr>\n",
       "  </tbody>\n",
       "</table>\n",
       "</div>"
      ],
      "text/plain": [
       "                    bought_flag\n",
       "component  segment             \n",
       "similarity 1           0.472635\n",
       "           2           0.602089\n",
       "           3           0.505762\n",
       "svd        1           0.628469\n",
       "           2           0.489487\n",
       "           3           0.552186"
      ]
     },
     "execution_count": 25,
     "metadata": {},
     "output_type": "execute_result"
    }
   ],
   "source": [
    "Q_table = all_recommendations.groupby(by=[\"component\", \"segment\"]).agg({\"bought_flag\": 'mean'})\n",
    "Q_table"
   ]
  },
  {
   "cell_type": "code",
   "execution_count": 26,
   "metadata": {},
   "outputs": [
    {
     "data": {
      "text/html": [
       "<div>\n",
       "<style scoped>\n",
       "    .dataframe tbody tr th:only-of-type {\n",
       "        vertical-align: middle;\n",
       "    }\n",
       "\n",
       "    .dataframe tbody tr th {\n",
       "        vertical-align: top;\n",
       "    }\n",
       "\n",
       "    .dataframe thead th {\n",
       "        text-align: right;\n",
       "    }\n",
       "</style>\n",
       "<table border=\"1\" class=\"dataframe\">\n",
       "  <thead>\n",
       "    <tr style=\"text-align: right;\">\n",
       "      <th></th>\n",
       "      <th>bought_flag</th>\n",
       "    </tr>\n",
       "    <tr>\n",
       "      <th>segment</th>\n",
       "      <th></th>\n",
       "    </tr>\n",
       "  </thead>\n",
       "  <tbody>\n",
       "    <tr>\n",
       "      <td>1</td>\n",
       "      <td>(svd, 1)</td>\n",
       "    </tr>\n",
       "    <tr>\n",
       "      <td>2</td>\n",
       "      <td>(similarity, 2)</td>\n",
       "    </tr>\n",
       "    <tr>\n",
       "      <td>3</td>\n",
       "      <td>(svd, 3)</td>\n",
       "    </tr>\n",
       "  </tbody>\n",
       "</table>\n",
       "</div>"
      ],
      "text/plain": [
       "             bought_flag\n",
       "segment                 \n",
       "1               (svd, 1)\n",
       "2        (similarity, 2)\n",
       "3               (svd, 3)"
      ]
     },
     "execution_count": 26,
     "metadata": {},
     "output_type": "execute_result"
    }
   ],
   "source": [
    "# Extract Policy\n",
    "Q_table.groupby(\"segment\").idxmax()"
   ]
  },
  {
   "cell_type": "code",
   "execution_count": 27,
   "metadata": {},
   "outputs": [
    {
     "name": "stdout",
     "output_type": "stream",
     "text": [
      "Based on policy RL combination there were bought 2589 products with a 0.5959944751381215 synergy success rate\n"
     ]
    }
   ],
   "source": [
    "# apply policy\n",
    "\n",
    "all_recommendations_policy = all_recommendations[((all_recommendations[\"component\"] == \"svd\") &\n",
    "                                                (all_recommendations[\"segment\"] != 2 )) |\n",
    "                                                 ((all_recommendations[\"component\"] == \"similarity\") &\n",
    "                                                (all_recommendations[\"segment\"] == 2 )) ]\n",
    "\n",
    "success_rate_policy_value = all_recommendations_policy[\"bought_flag\"].mean()\n",
    "success_rate_policy_sum_bought_products = all_recommendations_policy[\"bought_flag\"].sum()\n",
    "\n",
    "print(f\"Based on policy RL combination there were bought {success_rate_policy_sum_bought_products} products with a {success_rate_policy_value} synergy success rate\")\n"
   ]
  },
  {
   "cell_type": "code",
   "execution_count": 28,
   "metadata": {},
   "outputs": [
    {
     "data": {
      "text/plain": [
       "0.5258634668396303"
      ]
     },
     "execution_count": 28,
     "metadata": {},
     "output_type": "execute_result"
    }
   ],
   "source": [
    "all_recommendations[\"bought_flag\"].mean()"
   ]
  },
  {
   "cell_type": "code",
   "execution_count": 29,
   "metadata": {},
   "outputs": [
    {
     "name": "stdout",
     "output_type": "stream",
     "text": [
      "Policy: There were recommended a number of  4344  products to  3426  clients\n"
     ]
    }
   ],
   "source": [
    "print(\"Policy: There were recommended a number of \", len(all_recommendations_policy[[\"rec_product\",\n",
    "                                                                                 \"customer_unique_id\"\n",
    "                                                                                ]].drop_duplicates()),\n",
    "      \" products to \",len(all_recommendations_policy[\"customer_unique_id\"].unique().tolist()), \" clients\")"
   ]
  },
  {
   "cell_type": "markdown",
   "metadata": {},
   "source": [
    "## 5. Extract Business Value"
   ]
  },
  {
   "cell_type": "code",
   "execution_count": 30,
   "metadata": {},
   "outputs": [],
   "source": [
    "products_deduplicated = orders_products.drop_duplicates(subset=\"product_id\", keep = \"first\")"
   ]
  },
  {
   "cell_type": "code",
   "execution_count": 31,
   "metadata": {},
   "outputs": [],
   "source": [
    "# merge bought products with price\n",
    "all_recommendations_price = all_recommendations.merge(products_deduplicated[[\"product_id\", \"price\"]],  \n",
    "                                                                left_on = \"rec_product\",\n",
    "                                                                   right_on = \"product_id\", \n",
    "                                                                   how= \"left\")\n"
   ]
  },
  {
   "cell_type": "code",
   "execution_count": 32,
   "metadata": {},
   "outputs": [
    {
     "data": {
      "text/plain": [
       "117516.82319999998"
      ]
     },
     "execution_count": 32,
     "metadata": {},
     "output_type": "execute_result"
    }
   ],
   "source": [
    "all_recommendations_price[all_recommendations_price[\"bought_flag\"] ==1][\"price\"].sum() * 0.21"
   ]
  }
 ],
 "metadata": {
  "kernelspec": {
   "display_name": "lda_dtm",
   "language": "python",
   "name": "lda_dtm"
  },
  "language_info": {
   "codemirror_mode": {
    "name": "ipython",
    "version": 3
   },
   "file_extension": ".py",
   "mimetype": "text/x-python",
   "name": "python",
   "nbconvert_exporter": "python",
   "pygments_lexer": "ipython3",
   "version": "3.7.4"
  }
 },
 "nbformat": 4,
 "nbformat_minor": 2
}

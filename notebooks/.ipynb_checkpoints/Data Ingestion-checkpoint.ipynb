{
 "cells": [
  {
   "cell_type": "code",
   "execution_count": 1,
   "metadata": {},
   "outputs": [],
   "source": [
    "import pandas as pd\n",
    "import numpy as np"
   ]
  },
  {
   "cell_type": "code",
   "execution_count": 2,
   "metadata": {},
   "outputs": [],
   "source": [
    "\n",
    "reviews = pd.read_csv('../data/olist_order_reviews_dataset.csv')\n",
    "customers = pd.read_csv('../data/olist_customers_dataset.csv')\n",
    "orders_products = pd.read_csv('../data/olist_order_items_dataset.csv')\n",
    "orders = pd.read_csv('../data/olist_orders_dataset.csv')\n",
    "products = pd.read_csv('../data/olist_products_dataset.csv')"
   ]
  },
  {
   "cell_type": "code",
   "execution_count": 3,
   "metadata": {},
   "outputs": [],
   "source": [
    "reviews.name =\"reviews\"\n",
    "customers.name = \"customers\"\n",
    "orders.name = \"orders\"\n",
    "orders_products.name = \"orders_products\"\n",
    "products.name = \"products\""
   ]
  },
  {
   "cell_type": "code",
   "execution_count": 4,
   "metadata": {},
   "outputs": [],
   "source": [
    "datasets = [reviews,\n",
    "           customers,\n",
    "           orders_products,\n",
    "           orders,\n",
    "           products]"
   ]
  },
  {
   "cell_type": "markdown",
   "metadata": {},
   "source": [
    "## 0. Cast"
   ]
  },
  {
   "cell_type": "code",
   "execution_count": 7,
   "metadata": {},
   "outputs": [],
   "source": [
    "date_columns_orders = [\"order_purchase_timestamp\",\n",
    "                \"order_approved_at\",\n",
    "                \"order_delivered_carrier_date\",\n",
    "                \"order_delivered_customer_date\",\n",
    "                \"order_estimated_delivery_date\"]\n",
    "\n",
    "date_columns_orders_products = [\"shipping_limit_date\"]\n",
    "date_columns_reviews = [\"review_answer_timestamp\"]\n",
    "\n",
    "\n",
    "orders[date_columns_orders] = orders[date_columns_orders].apply(pd.to_datetime)\n",
    "orders_products[date_columns_orders_products] = orders_products[date_columns_orders_products].apply(pd.to_datetime)\n",
    "reviews[date_columns_reviews] = reviews[date_columns_reviews].apply(pd.to_datetime)"
   ]
  },
  {
   "cell_type": "code",
   "execution_count": null,
   "metadata": {},
   "outputs": [],
   "source": [
    "# for d in datasets:\n",
    "#     print(d.name)\n",
    "#     print(d.info())\n",
    "#     print(\"\\n\")"
   ]
  },
  {
   "cell_type": "code",
   "execution_count": 8,
   "metadata": {},
   "outputs": [
    {
     "data": {
      "text/plain": [
       "2018    54011\n",
       "2017    45101\n",
       "2016      329\n",
       "Name: year, dtype: int64"
      ]
     },
     "execution_count": 8,
     "metadata": {},
     "output_type": "execute_result"
    }
   ],
   "source": [
    "orders['year'] = orders[\"order_purchase_timestamp\"].dt.year\n",
    "orders[\"year\"].value_counts()"
   ]
  },
  {
   "cell_type": "markdown",
   "metadata": {},
   "source": [
    "## 1. Split Train and Test"
   ]
  },
  {
   "cell_type": "code",
   "execution_count": 9,
   "metadata": {},
   "outputs": [],
   "source": [
    "def split(data, date_column, date_split):\n",
    "    \n",
    "    data_df = data.copy()\n",
    "    mask_train = data_df[date_column] < date_split\n",
    "    mask_test = data_df[date_column] >= date_split\n",
    "\n",
    "    data_train = data_df[mask_train].copy()\n",
    "    data_test = data_df[mask_test].copy()\n",
    "    \n",
    "    data_train['split'] =\"train\"\n",
    "    data_test['split'] =\"test\"\n",
    "\n",
    "    return data_train, data_test\n",
    "\n",
    "# Join datasets\n",
    "def join_datasets(dataset1, dataset2, key):\n",
    "    \n",
    "    dataset1[key] = dataset1[key].astype('str')\n",
    "    dataset2[key] = dataset2[key].astype('str')\n",
    "    \n",
    "    joined_datasets = dataset1.merge(dataset2,\n",
    "                                 on=key,\n",
    "                                 how='left')\n",
    "    return joined_datasets\n",
    "\n",
    "\n",
    "def join_orders_clients_items_reviews(data_orders, data_orders_items, data_clients, data_reviews):\n",
    "    \n",
    "    data_orders_customers = join_datasets(data_orders, data_clients, key='customer_id')\n",
    "    \n",
    "    data_orders_items_customers = join_datasets(data_orders_items, data_orders_customers, key='order_id')\n",
    "    \n",
    "    data_orders_items_customers_reviews = join_datasets(data_orders_items_customers, data_reviews, key='order_id')\n",
    "    \n",
    "    return data_orders_items_customers_reviews\n",
    "\n",
    "\n",
    "# def cross_tabs(data, customer_id_column, item_id_column, agg_column):\n",
    "    \n",
    "    "
   ]
  },
  {
   "cell_type": "code",
   "execution_count": 74,
   "metadata": {},
   "outputs": [],
   "source": [
    "df_train, df_test = split(data= orders,\n",
    "                          date_column=\"order_purchase_timestamp\",\n",
    "                          date_split = '2019-03-01')"
   ]
  },
  {
   "cell_type": "code",
   "execution_count": 75,
   "metadata": {},
   "outputs": [],
   "source": [
    "data_train = join_orders_clients_items_reviews(data_orders = df_train,\n",
    "                                               data_orders_items = orders_products,\n",
    "                                               data_clients = customers ,\n",
    "                                               data_reviews= reviews)"
   ]
  },
  {
   "cell_type": "code",
   "execution_count": 76,
   "metadata": {},
   "outputs": [
    {
     "data": {
      "text/plain": [
       "2018    61675\n",
       "2017    51272\n",
       "2016      375\n",
       "Name: year, dtype: int64"
      ]
     },
     "execution_count": 76,
     "metadata": {},
     "output_type": "execute_result"
    }
   ],
   "source": [
    "data_train[\"year\"].value_counts()"
   ]
  },
  {
   "cell_type": "code",
   "execution_count": 90,
   "metadata": {},
   "outputs": [],
   "source": [
    "data_agg = data_train[data_train['customer_unique_id'].notnull() \n",
    "                      & data_train[\"product_id\"].notnull()\n",
    "                     & data_train[\"order_purchase_timestamp\"].notnull()\n",
    "                     & data_train[\"split\"].notnull()][[\"customer_unique_id\",\n",
    "                                                                   \"product_id\", \n",
    "                                                                   \"review_score\" ]]"
   ]
  },
  {
   "cell_type": "code",
   "execution_count": 99,
   "metadata": {},
   "outputs": [],
   "source": [
    "bought_products_customer = data_agg.groupby(by = \"customer_unique_id\").agg({\"product_id\": \"nunique\"})\n",
    "customers2consider = bought_products_customer[bought_products_customer['product_id']>1].index.tolist()"
   ]
  },
  {
   "cell_type": "code",
   "execution_count": 100,
   "metadata": {},
   "outputs": [],
   "source": [
    "data_customers_more_products = data_train[data_train[\"customer_unique_id\"].isin(customers2consider)].copy()"
   ]
  },
  {
   "cell_type": "code",
   "execution_count": 101,
   "metadata": {},
   "outputs": [
    {
     "data": {
      "text/plain": [
       "2018    7052\n",
       "2017    6881\n",
       "2016      62\n",
       "Name: year, dtype: int64"
      ]
     },
     "execution_count": 101,
     "metadata": {},
     "output_type": "execute_result"
    }
   ],
   "source": [
    "data_customers_more_products[\"year\"].value_counts()"
   ]
  },
  {
   "cell_type": "code",
   "execution_count": 102,
   "metadata": {},
   "outputs": [
    {
     "data": {
      "text/plain": [
       "array([[<matplotlib.axes._subplots.AxesSubplot object at 0x124cb6210>]],\n",
       "      dtype=object)"
      ]
     },
     "execution_count": 102,
     "metadata": {},
     "output_type": "execute_result"
    },
    {
     "data": {
      "image/png": "[encoded data removed]",
      "text/plain": [
       "<Figure size 432x288 with 1 Axes>"
      ]
     },
     "metadata": {
      "needs_background": "light"
     },
     "output_type": "display_data"
    }
   ],
   "source": [
    "%matplotlib inline\n",
    "bought_products_customer[bought_products_customer['product_id']>1].hist()"
   ]
  },
  {
   "cell_type": "code",
   "execution_count": 83,
   "metadata": {},
   "outputs": [
    {
     "data": {
      "text/plain": [
       "1     89964\n",
       "2      4683\n",
       "3       559\n",
       "4       152\n",
       "5        32\n",
       "6        17\n",
       "7         8\n",
       "9         2\n",
       "15        1\n",
       "13        1\n",
       "8         1\n",
       "Name: product_id, dtype: int64"
      ]
     },
     "execution_count": 83,
     "metadata": {},
     "output_type": "execute_result"
    }
   ],
   "source": [
    "bought_products_customer.product_id.value_counts()"
   ]
  },
  {
   "cell_type": "markdown",
   "metadata": {},
   "source": [
    "## SVD"
   ]
  },
  {
   "cell_type": "markdown",
   "metadata": {},
   "source": [
    "### Prepare Data Format"
   ]
  },
  {
   "cell_type": "code",
   "execution_count": null,
   "metadata": {},
   "outputs": [],
   "source": [
    "import pandas as pd\n",
    "import numpy as np\n",
    "import scipy\n",
    "\n",
    "\n",
    "users = data_svd['customer_unique_id'].unique() #list of all users\n",
    "items = data_svd['product_id'].unique() #list of products\n"
   ]
  },
  {
   "cell_type": "code",
   "execution_count": null,
   "metadata": {},
   "outputs": [],
   "source": [
    "data_svd"
   ]
  },
  {
   "cell_type": "code",
   "execution_count": null,
   "metadata": {},
   "outputs": [],
   "source": [
    "import numpy as np\n",
    "import pandas as pd\n",
    "from scipy.linalg import sqrtm\n",
    "\n",
    "def create_utility_matrix(data, formatizer = {'user':0, 'item': 1, 'value': 2}):\n",
    "    \"\"\"\n",
    "        :param data:      Array-like, 2D, nx3\n",
    "        :param formatizer:pass the formatizer\n",
    "        :return:          utility matrix (n x m), n=users, m=items\n",
    "    \"\"\"\n",
    "        \n",
    "    itemField = formatizer['item']\n",
    "    userField = formatizer['user']\n",
    "    valueField = formatizer['value']\n",
    "    userList = data.iloc[:,userField].tolist()\n",
    "    itemList = data.iloc[:,itemField].tolist()\n",
    "    valueList = data.iloc[:,valueField].tolist()\n",
    "    users = list(set(data.iloc[:,userField]))\n",
    "    items = list(set(data.iloc[:,itemField]))\n",
    "    users_index = {users[i]: i for i in range(len(users))}\n",
    "    pd_dict = {item: [np.nan for i in range(len(users))] for item in items}\n",
    "    for i in range(0,len(data)):\n",
    "        item = itemList[i]\n",
    "        user = userList[i]\n",
    "        value = valueList[i]\n",
    "    pd_dict[item][users_index[user]] = value\n",
    "    X = pd.DataFrame(pd_dict)\n",
    "    X.index = users\n",
    "        \n",
    "    itemcols = list(X.columns)\n",
    "    items_index = {itemcols[i]: i for i in range(len(itemcols))}\n",
    "    # users_index gives us a mapping of user_id to index of user\n",
    "    # items_index provides the same for items\n",
    "    return X, users_index, items_index"
   ]
  },
  {
   "cell_type": "code",
   "execution_count": null,
   "metadata": {},
   "outputs": [],
   "source": [
    "utilMat, users_index, items_index = create_utility_matrix(data_svd)"
   ]
  },
  {
   "cell_type": "code",
   "execution_count": null,
   "metadata": {},
   "outputs": [],
   "source": [
    "utilMat['2f4b132305af5173ac8923892200f597'].notnull().mean()"
   ]
  },
  {
   "cell_type": "code",
   "execution_count": null,
   "metadata": {},
   "outputs": [],
   "source": [
    "cross_tabs = data_svd.pivot_table(index='customer_unique_id',\n",
    "                                  columns='product_id',\n",
    "                                  values='review_score',\n",
    "                                  fill_value=0)"
   ]
  },
  {
   "cell_type": "code",
   "execution_count": null,
   "metadata": {},
   "outputs": [],
   "source": [
    "cross_tabs"
   ]
  },
  {
   "cell_type": "code",
   "execution_count": null,
   "metadata": {},
   "outputs": [],
   "source": [
    "for c in cross_tabs.columns.tolist():\n",
    "    print(len(cross_tabs[cross_tabs[c]>0]))"
   ]
  },
  {
   "cell_type": "code",
   "execution_count": null,
   "metadata": {},
   "outputs": [],
   "source": [
    "series"
   ]
  },
  {
   "cell_type": "code",
   "execution_count": null,
   "metadata": {},
   "outputs": [],
   "source": []
  }
 ],
 "metadata": {
  "kernelspec": {
   "display_name": "lda_dtm",
   "language": "python",
   "name": "lda_dtm"
  },
  "language_info": {
   "codemirror_mode": {
    "name": "ipython",
    "version": 3
   },
   "file_extension": ".py",
   "mimetype": "text/x-python",
   "name": "python",
   "nbconvert_exporter": "python",
   "pygments_lexer": "ipython3",
   "version": "3.7.4"
  }
 },
 "nbformat": 4,
 "nbformat_minor": 2
}
